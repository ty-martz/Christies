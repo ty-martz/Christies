{
 "cells": [
  {
   "cell_type": "code",
   "execution_count": 20,
   "metadata": {},
   "outputs": [],
   "source": [
    "import mysql.connector\n",
    "from mysql.connector import connect, Error\n",
    "import pandas as pd\n"
   ]
  },
  {
   "cell_type": "code",
   "execution_count": 78,
   "metadata": {},
   "outputs": [],
   "source": [
    "try:\n",
    "  mydb = mysql.connector.connect(\n",
    "    host=\"127.0.0.1\",\n",
    "    user=\"root\",\n",
    "    password=\"seatTle*!31\",\n",
    "    database='art_auction'\n",
    "  )\n",
    "except Error as e:\n",
    "  print(e)\n",
    "\n",
    "mycursor = mydb.cursor()"
   ]
  },
  {
   "cell_type": "code",
   "execution_count": 32,
   "metadata": {},
   "outputs": [
    {
     "name": "stdout",
     "output_type": "stream",
     "text": [
      "('art_auction',)\n",
      "('information_schema',)\n",
      "('mysql',)\n",
      "('performance_schema',)\n",
      "('sys',)\n"
     ]
    }
   ],
   "source": [
    "show_db_query = \"SHOW DATABASES\"\n",
    "with mydb.cursor() as cursor:\n",
    "    cursor.execute(show_db_query)\n",
    "    for db in cursor:\n",
    "        print(db)"
   ]
  },
  {
   "cell_type": "code",
   "execution_count": 26,
   "metadata": {},
   "outputs": [
    {
     "data": {
      "text/plain": [
       "Index(['Unnamed: 0', 'object_id', 'lot_id_txt', 'event_type', 'start_date',\n",
       "       'end_date', 'url', 'is_auction_over', 'is_in_progress',\n",
       "       'title_primary_txt', 'title_secondary_txt', 'title_tertiary_txt',\n",
       "       'consigner_information', 'description_txt', 'image', 'estimate_visible',\n",
       "       'estimate_on_request', 'is_estimate_unknown', 'price_on_request',\n",
       "       'estimate_low', 'estimate_high', 'estimate_txt', 'lot_withdrawn',\n",
       "       'price_realised', 'price_realised_txt', 'current_bid',\n",
       "       'current_bid_txt', 'is_saved', 'show_save', 'lot_title', 'location'],\n",
       "      dtype='object')"
      ]
     },
     "execution_count": 26,
     "metadata": {},
     "output_type": "execute_result"
    }
   ],
   "source": [
    "raw = pd.read_csv('../../data/christies_data.csv')\n",
    "raw.columns"
   ]
  },
  {
   "cell_type": "code",
   "execution_count": 28,
   "metadata": {},
   "outputs": [
    {
     "name": "stdout",
     "output_type": "stream",
     "text": [
      "Unnamed: 0, object_id, lot_id_txt, event_type, start_date, end_date, url, is_auction_over, is_in_progress, title_primary_txt, title_secondary_txt, title_tertiary_txt, consigner_information, description_txt, image, estimate_visible, estimate_on_request, is_estimate_unknown, price_on_request, estimate_low, estimate_high, estimate_txt, lot_withdrawn, price_realised, price_realised_txt, current_bid, current_bid_txt, is_saved, show_save, lot_title, location, \n"
     ]
    }
   ],
   "source": [
    "string = ''\n",
    "for c in raw.columns:\n",
    "    string += str(c) + ', '\n",
    "print(string)"
   ]
  },
  {
   "cell_type": "code",
   "execution_count": 29,
   "metadata": {},
   "outputs": [
    {
     "name": "stdout",
     "output_type": "stream",
     "text": [
      "   Unnamed: 0  object_id lot_id_txt event_type         start_date  \\\n",
      "0           0    5287253          1       Sale  2010-01-28T00:00Z   \n",
      "\n",
      "            end_date                                                url  \\\n",
      "0  2010-01-28T05:00Z  https://www.christies.com/lot/lot-5287253?ldp_...   \n",
      "\n",
      "   is_auction_over  is_in_progress title_primary_txt  ...  \\\n",
      "0             True           False    AN AGATE GEODE  ...   \n",
      "\n",
      "          estimate_txt  lot_withdrawn price_realised price_realised_txt  \\\n",
      "0  USD 800 - USD 1,200          False         1875.0          USD 1,875   \n",
      "\n",
      "  current_bid  current_bid_txt  is_saved  show_save  \\\n",
      "0         NaN              NaN     False       True   \n",
      "\n",
      "                                           lot_title  location  \n",
      "0  A Cabinet of Curiosities Selections from the P...  New York  \n",
      "\n",
      "[1 rows x 31 columns]\n"
     ]
    }
   ],
   "source": [
    "print(raw.head(1))"
   ]
  },
  {
   "cell_type": "code",
   "execution_count": 132,
   "metadata": {},
   "outputs": [],
   "source": [
    "# create a table for the raw data\n",
    "\n",
    "create_table_query = \"\"\"\n",
    "DROP TABLE auction_raw;\n",
    "CREATE TABLE IF NOT EXISTS auction_raw(\n",
    "    pd_id INT,\n",
    "    object_id INT,\n",
    "    lot_id_txt INT,\n",
    "    event_type VARCHAR(100),\n",
    "    start_date DATETIME,\n",
    "    end_date DATETIME,\n",
    "    url VARCHAR(500),\n",
    "    is_auction_over BOOL,\n",
    "    is_in_progress BOOL,\n",
    "    title_primary_txt VARCHAR(100),\n",
    "    title_secondary_txt VARCHAR(100),\n",
    "    title_tertiary_txt VARCHAR(100),\n",
    "    consigner_information VARCHAR(100),\n",
    "    description_txt VARCHAR(100),\n",
    "    estimate_visible BOOL,\n",
    "    estimate_on_request BOOL,\n",
    "    is_estimate_unknown BOOL,\n",
    "    price_on_request BOOL,\n",
    "    estimate_low DOUBLE,\n",
    "    estimate_high DOUBLE,\n",
    "    estimate_txt VARCHAR(100),\n",
    "    lot_withdrawn BOOL,\n",
    "    price_realised DOUBLE,\n",
    "    price_realised_txt VARCHAR(100),\n",
    "    current_bid DOUBLE,\n",
    "    current_bid_txt VARCHAR(100),\n",
    "    is_saved BOOL,\n",
    "    show_save BOOL,\n",
    "    lot_title VARCHAR(500),\n",
    "    location VARCHAR(100)\n",
    ")\n",
    "\"\"\"\n",
    "mycursor.execute(create_table_query, multi=True)\n",
    "mydb.commit()"
   ]
  },
  {
   "cell_type": "code",
   "execution_count": 121,
   "metadata": {},
   "outputs": [
    {
     "name": "stdout",
     "output_type": "stream",
     "text": [
      "-- ROWS COMPILED --\n"
     ]
    }
   ],
   "source": [
    "df = raw.copy()\n",
    "df = df.drop('image', axis=1)\n",
    "#df['Unnamed: 0'] = (df['Unnamed: 0'].astype(object))\n",
    "#df['object_id'] = (df['object_id'].astype(object))\n",
    "for col in df.columns:\n",
    "    if str(df[col].dtype) != 'object':\n",
    "        df[col] = df[col].astype(object)\n",
    "df['start_date'] = df['start_date'].str.replace('T', ' ').replace('Z', ':00')\n",
    "df['end_date'] = df['end_date'].str.replace('T', ' ').replace('Z', ':00')\n",
    "df['start_date'] = df['start_date'].str.replace('Z', ':00')\n",
    "df['end_date'] = df['end_date'].str.replace('Z', ':00')\n",
    "df['description_txt'] = df['description_txt'].str.slice(0,99)\n",
    "df['title_secondary_txt'] = df['title_secondary_txt'].str.slice(0,99)\n",
    "df['consigner_information'] = df['consigner_information'].str.slice(0,99)\n",
    "df['title_primary_txt'] = df['title_primary_txt'].str.slice(0,99)\n",
    "\n",
    "records = []\n",
    "for i in range(len(df)):\n",
    "    row = tuple(df.iloc[i])\n",
    "    records.append(row)\n",
    "print('-- ROWS COMPILED --')"
   ]
  },
  {
   "cell_type": "code",
   "execution_count": 133,
   "metadata": {},
   "outputs": [
    {
     "ename": "DatabaseError",
     "evalue": "1265 (01000): Data truncated for column 'lot_id_txt' at row 50",
     "output_type": "error",
     "traceback": [
      "\u001b[0;31m---------------------------------------------------------------------------\u001b[0m",
      "\u001b[0;31mDatabaseError\u001b[0m                             Traceback (most recent call last)",
      "\u001b[0;32m/var/folders/zl/dcf4_q9d3snfp2mjbl4tx00w0000gp/T/ipykernel_8999/1437181225.py\u001b[0m in \u001b[0;36m<module>\u001b[0;34m\u001b[0m\n\u001b[1;32m      8\u001b[0m \u001b[0;34m\u001b[0m\u001b[0m\n\u001b[1;32m      9\u001b[0m     \u001b[0mmycursor\u001b[0m\u001b[0;34m.\u001b[0m\u001b[0mexecutemany\u001b[0m\u001b[0;34m(\u001b[0m\u001b[0minsert_query\u001b[0m\u001b[0;34m,\u001b[0m\u001b[0mto_insert\u001b[0m\u001b[0;34m)\u001b[0m\u001b[0;34m\u001b[0m\u001b[0;34m\u001b[0m\u001b[0m\n\u001b[0;32m---> 10\u001b[0;31m     \u001b[0mmydb\u001b[0m\u001b[0;34m.\u001b[0m\u001b[0mcommit\u001b[0m\u001b[0;34m(\u001b[0m\u001b[0;34m)\u001b[0m\u001b[0;34m\u001b[0m\u001b[0;34m\u001b[0m\u001b[0m\n\u001b[0m",
      "\u001b[0;32m~/Code/Pets/Christies/env/lib/python3.7/site-packages/mysql/connector/connection.py\u001b[0m in \u001b[0;36mcommit\u001b[0;34m(self)\u001b[0m\n\u001b[1;32m   1321\u001b[0m     \u001b[0;32mdef\u001b[0m \u001b[0mcommit\u001b[0m\u001b[0;34m(\u001b[0m\u001b[0mself\u001b[0m\u001b[0;34m)\u001b[0m\u001b[0;34m:\u001b[0m\u001b[0;34m\u001b[0m\u001b[0;34m\u001b[0m\u001b[0m\n\u001b[1;32m   1322\u001b[0m         \u001b[0;34m\"\"\"Commit current transaction\"\"\"\u001b[0m\u001b[0;34m\u001b[0m\u001b[0;34m\u001b[0m\u001b[0m\n\u001b[0;32m-> 1323\u001b[0;31m         \u001b[0mself\u001b[0m\u001b[0;34m.\u001b[0m\u001b[0m_execute_query\u001b[0m\u001b[0;34m(\u001b[0m\u001b[0;34m\"COMMIT\"\u001b[0m\u001b[0;34m)\u001b[0m\u001b[0;34m\u001b[0m\u001b[0;34m\u001b[0m\u001b[0m\n\u001b[0m\u001b[1;32m   1324\u001b[0m \u001b[0;34m\u001b[0m\u001b[0m\n\u001b[1;32m   1325\u001b[0m     \u001b[0;32mdef\u001b[0m \u001b[0mrollback\u001b[0m\u001b[0;34m(\u001b[0m\u001b[0mself\u001b[0m\u001b[0;34m)\u001b[0m\u001b[0;34m:\u001b[0m\u001b[0;34m\u001b[0m\u001b[0;34m\u001b[0m\u001b[0m\n",
      "\u001b[0;32m~/Code/Pets/Christies/env/lib/python3.7/site-packages/mysql/connector/connection.py\u001b[0m in \u001b[0;36m_execute_query\u001b[0;34m(self, query)\u001b[0m\n\u001b[1;32m   1340\u001b[0m         \"\"\"\n\u001b[1;32m   1341\u001b[0m         \u001b[0mself\u001b[0m\u001b[0;34m.\u001b[0m\u001b[0mhandle_unread_result\u001b[0m\u001b[0;34m(\u001b[0m\u001b[0;34m)\u001b[0m\u001b[0;34m\u001b[0m\u001b[0;34m\u001b[0m\u001b[0m\n\u001b[0;32m-> 1342\u001b[0;31m         \u001b[0mself\u001b[0m\u001b[0;34m.\u001b[0m\u001b[0mcmd_query\u001b[0m\u001b[0;34m(\u001b[0m\u001b[0mquery\u001b[0m\u001b[0;34m)\u001b[0m\u001b[0;34m\u001b[0m\u001b[0;34m\u001b[0m\u001b[0m\n\u001b[0m\u001b[1;32m   1343\u001b[0m \u001b[0;34m\u001b[0m\u001b[0m\n\u001b[1;32m   1344\u001b[0m     \u001b[0;32mdef\u001b[0m \u001b[0minfo_query\u001b[0m\u001b[0;34m(\u001b[0m\u001b[0mself\u001b[0m\u001b[0;34m,\u001b[0m \u001b[0mquery\u001b[0m\u001b[0;34m)\u001b[0m\u001b[0;34m:\u001b[0m\u001b[0;34m\u001b[0m\u001b[0;34m\u001b[0m\u001b[0m\n",
      "\u001b[0;32m~/Code/Pets/Christies/env/lib/python3.7/site-packages/mysql/connector/connection.py\u001b[0m in \u001b[0;36mcmd_query\u001b[0;34m(self, query, raw, buffered, raw_as_string)\u001b[0m\n\u001b[1;32m    920\u001b[0m         \u001b[0mquery\u001b[0m \u001b[0;34m=\u001b[0m \u001b[0mbytes\u001b[0m\u001b[0;34m(\u001b[0m\u001b[0mpacket\u001b[0m\u001b[0;34m)\u001b[0m\u001b[0;34m\u001b[0m\u001b[0;34m\u001b[0m\u001b[0m\n\u001b[1;32m    921\u001b[0m         \u001b[0;32mtry\u001b[0m\u001b[0;34m:\u001b[0m\u001b[0;34m\u001b[0m\u001b[0;34m\u001b[0m\u001b[0m\n\u001b[0;32m--> 922\u001b[0;31m             \u001b[0mresult\u001b[0m \u001b[0;34m=\u001b[0m \u001b[0mself\u001b[0m\u001b[0;34m.\u001b[0m\u001b[0m_handle_result\u001b[0m\u001b[0;34m(\u001b[0m\u001b[0mself\u001b[0m\u001b[0;34m.\u001b[0m\u001b[0m_send_cmd\u001b[0m\u001b[0;34m(\u001b[0m\u001b[0mServerCmd\u001b[0m\u001b[0;34m.\u001b[0m\u001b[0mQUERY\u001b[0m\u001b[0;34m,\u001b[0m \u001b[0mquery\u001b[0m\u001b[0;34m)\u001b[0m\u001b[0;34m)\u001b[0m\u001b[0;34m\u001b[0m\u001b[0;34m\u001b[0m\u001b[0m\n\u001b[0m\u001b[1;32m    923\u001b[0m         \u001b[0;32mexcept\u001b[0m \u001b[0merrors\u001b[0m\u001b[0;34m.\u001b[0m\u001b[0mProgrammingError\u001b[0m \u001b[0;32mas\u001b[0m \u001b[0merr\u001b[0m\u001b[0;34m:\u001b[0m\u001b[0;34m\u001b[0m\u001b[0;34m\u001b[0m\u001b[0m\n\u001b[1;32m    924\u001b[0m             \u001b[0;32mif\u001b[0m \u001b[0merr\u001b[0m\u001b[0;34m.\u001b[0m\u001b[0merrno\u001b[0m \u001b[0;34m==\u001b[0m \u001b[0;36m3948\u001b[0m \u001b[0;32mand\u001b[0m\u001b[0;31m \u001b[0m\u001b[0;31m\\\u001b[0m\u001b[0;34m\u001b[0m\u001b[0;34m\u001b[0m\u001b[0m\n",
      "\u001b[0;32m~/Code/Pets/Christies/env/lib/python3.7/site-packages/mysql/connector/connection.py\u001b[0m in \u001b[0;36m_handle_result\u001b[0;34m(self, packet)\u001b[0m\n\u001b[1;32m    730\u001b[0m             \u001b[0;32mreturn\u001b[0m \u001b[0mself\u001b[0m\u001b[0;34m.\u001b[0m\u001b[0m_handle_eof\u001b[0m\u001b[0;34m(\u001b[0m\u001b[0mpacket\u001b[0m\u001b[0;34m)\u001b[0m\u001b[0;34m\u001b[0m\u001b[0;34m\u001b[0m\u001b[0m\n\u001b[1;32m    731\u001b[0m         \u001b[0;32melif\u001b[0m \u001b[0mpacket\u001b[0m\u001b[0;34m[\u001b[0m\u001b[0;36m4\u001b[0m\u001b[0;34m]\u001b[0m \u001b[0;34m==\u001b[0m \u001b[0;36m255\u001b[0m\u001b[0;34m:\u001b[0m\u001b[0;34m\u001b[0m\u001b[0;34m\u001b[0m\u001b[0m\n\u001b[0;32m--> 732\u001b[0;31m             \u001b[0;32mraise\u001b[0m \u001b[0merrors\u001b[0m\u001b[0;34m.\u001b[0m\u001b[0mget_exception\u001b[0m\u001b[0;34m(\u001b[0m\u001b[0mpacket\u001b[0m\u001b[0;34m)\u001b[0m\u001b[0;34m\u001b[0m\u001b[0;34m\u001b[0m\u001b[0m\n\u001b[0m\u001b[1;32m    733\u001b[0m \u001b[0;34m\u001b[0m\u001b[0m\n\u001b[1;32m    734\u001b[0m         \u001b[0;31m# We have a text result set\u001b[0m\u001b[0;34m\u001b[0m\u001b[0;34m\u001b[0m\u001b[0;34m\u001b[0m\u001b[0m\n",
      "\u001b[0;31mDatabaseError\u001b[0m: 1265 (01000): Data truncated for column 'lot_id_txt' at row 50"
     ]
    }
   ],
   "source": [
    "\n",
    "for batch in range(100,len(records),100):\n",
    "    to_insert = records[batch:batch+99]\n",
    "    insert_query = '''\n",
    "                INSERT INTO auction_raw\n",
    "                (pd_id, object_id, lot_id_txt, event_type, start_date, end_date, url, is_auction_over, is_in_progress, title_primary_txt, title_secondary_txt, title_tertiary_txt, consigner_information, description_txt, estimate_visible, estimate_on_request, is_estimate_unknown, price_on_request, estimate_low, estimate_high, estimate_txt, lot_withdrawn, price_realised, price_realised_txt, current_bid, current_bid_txt, is_saved, show_save, lot_title, location)\n",
    "                VALUES (%s, %s, %s, %s, %s, %s, %s, %s, %s, %s, %s, %s, %s, %s, %s, %s, %s, %s, %s, %s, %s, %s, %s, %s, %s, %s, %s, %s, %s, %s)\n",
    "                '''\n",
    "\n",
    "    mycursor.executemany(insert_query,to_insert)\n",
    "    mydb.commit()"
   ]
  },
  {
   "cell_type": "code",
   "execution_count": null,
   "metadata": {},
   "outputs": [],
   "source": []
  }
 ],
 "metadata": {
  "interpreter": {
   "hash": "a098b8fb173f1eaa4d133b8b5f551c6acc36ae637bf0b05624ef25d47049ba74"
  },
  "kernelspec": {
   "display_name": "Python 3.7.6 ('env': venv)",
   "language": "python",
   "name": "python3"
  },
  "language_info": {
   "codemirror_mode": {
    "name": "ipython",
    "version": 3
   },
   "file_extension": ".py",
   "mimetype": "text/x-python",
   "name": "python",
   "nbconvert_exporter": "python",
   "pygments_lexer": "ipython3",
   "version": "3.7.6"
  },
  "orig_nbformat": 4
 },
 "nbformat": 4,
 "nbformat_minor": 2
}
