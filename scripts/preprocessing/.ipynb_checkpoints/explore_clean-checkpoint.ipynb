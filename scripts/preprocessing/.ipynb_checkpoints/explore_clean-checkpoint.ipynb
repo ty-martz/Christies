{
 "cells": [
  {
   "cell_type": "code",
   "execution_count": 1,
   "metadata": {},
   "outputs": [],
   "source": [
    "import pandas as pd\n",
    "import numpy as np\n",
    "import matplotlib.pyplot as plt"
   ]
  },
  {
   "cell_type": "code",
   "execution_count": 67,
   "metadata": {},
   "outputs": [],
   "source": [
    "# Read in the csv data\n",
    "raw = pd.read_csv('../data/christies_data.csv')"
   ]
  },
  {
   "cell_type": "markdown",
   "metadata": {},
   "source": [
    "---\n",
    "## Data Cleaning"
   ]
  },
  {
   "cell_type": "code",
   "execution_count": 154,
   "metadata": {},
   "outputs": [],
   "source": [
    "df = raw.copy()\n",
    "df = df[df['estimate_visible'] == True]\n",
    "\n",
    "# dropna based on lot title and price and fill\n",
    "df = df.dropna(subset=['title_primary_txt', 'price_realised'])\n",
    "fills = {'location':'unknown', 'consigner_information':'unknown'}\n",
    "df = df.fillna(value=fills)\n",
    "\n",
    "# create new columns\n",
    "titles = zip(df['title_primary_txt'], df['title_secondary_txt'])\n",
    "df['title_full'] = [f'{p}: {s}' if s is not np.nan else p for p,s in titles]\n",
    "\n",
    "# clean up description\n",
    "lis = [i.split('<BR>') for i in df['description_txt']]\n",
    "str_out = [''.join(lis[i][1:-1]).replace('/n','') for i, z in enumerate(lis)]\n",
    "df['clean_description'] = str_out\n",
    "\n",
    "# Format dates\n",
    "df['start_date'] = pd.to_datetime(df['start_date'])\n",
    "df['end_date'] = pd.to_datetime(df['end_date'])\n"
   ]
  },
  {
   "cell_type": "code",
   "execution_count": 157,
   "metadata": {},
   "outputs": [
    {
     "data": {
      "text/html": [
       "<div>\n",
       "<style scoped>\n",
       "    .dataframe tbody tr th:only-of-type {\n",
       "        vertical-align: middle;\n",
       "    }\n",
       "\n",
       "    .dataframe tbody tr th {\n",
       "        vertical-align: top;\n",
       "    }\n",
       "\n",
       "    .dataframe thead th {\n",
       "        text-align: right;\n",
       "    }\n",
       "</style>\n",
       "<table border=\"1\" class=\"dataframe\">\n",
       "  <thead>\n",
       "    <tr style=\"text-align: right;\">\n",
       "      <th></th>\n",
       "      <th>object_id</th>\n",
       "      <th>lot_id_txt</th>\n",
       "      <th>event_type</th>\n",
       "      <th>start_date</th>\n",
       "      <th>end_date</th>\n",
       "      <th>url</th>\n",
       "      <th>title_primary_txt</th>\n",
       "      <th>consigner_information</th>\n",
       "      <th>description_txt</th>\n",
       "      <th>estimate_low</th>\n",
       "      <th>estimate_high</th>\n",
       "      <th>price_realised</th>\n",
       "      <th>lot_title</th>\n",
       "      <th>location</th>\n",
       "      <th>title_full</th>\n",
       "      <th>clean_description</th>\n",
       "    </tr>\n",
       "  </thead>\n",
       "  <tbody>\n",
       "    <tr>\n",
       "      <th>0</th>\n",
       "      <td>5287253</td>\n",
       "      <td>1</td>\n",
       "      <td>Sale</td>\n",
       "      <td>2010-01-28 00:00:00+00:00</td>\n",
       "      <td>2010-01-28 05:00:00+00:00</td>\n",
       "      <td>https://www.christies.com/lot/lot-5287253?ldp_...</td>\n",
       "      <td>AN AGATE GEODE</td>\n",
       "      <td>unknown</td>\n",
       "      <td>AN AGATE GEODE &lt;BR&gt;\\nAffixed to a stained maho...</td>\n",
       "      <td>800.0</td>\n",
       "      <td>1200.0</td>\n",
       "      <td>1875.0</td>\n",
       "      <td>A Cabinet of Curiosities Selections from the P...</td>\n",
       "      <td>New York</td>\n",
       "      <td>AN AGATE GEODE</td>\n",
       "      <td>\\nAffixed to a stained mahogany stand, restore...</td>\n",
       "    </tr>\n",
       "    <tr>\n",
       "      <th>1</th>\n",
       "      <td>5287254</td>\n",
       "      <td>2</td>\n",
       "      <td>Sale</td>\n",
       "      <td>2010-01-28 00:00:00+00:00</td>\n",
       "      <td>2010-01-28 05:00:00+00:00</td>\n",
       "      <td>https://www.christies.com/lot/lot-5287254?ldp_...</td>\n",
       "      <td>A STAGHORN CORAL</td>\n",
       "      <td>unknown</td>\n",
       "      <td>A STAGHORN CORAL &lt;BR&gt;\\n10 in. (25.5 cm.) high,...</td>\n",
       "      <td>500.0</td>\n",
       "      <td>800.0</td>\n",
       "      <td>1625.0</td>\n",
       "      <td>A Cabinet of Curiosities Selections from the P...</td>\n",
       "      <td>New York</td>\n",
       "      <td>A STAGHORN CORAL</td>\n",
       "      <td>\\n10 in. (25.5 cm.) high, 15 in. (38 cm.) wide...</td>\n",
       "    </tr>\n",
       "  </tbody>\n",
       "</table>\n",
       "</div>"
      ],
      "text/plain": [
       "   object_id lot_id_txt event_type                start_date  \\\n",
       "0    5287253          1       Sale 2010-01-28 00:00:00+00:00   \n",
       "1    5287254          2       Sale 2010-01-28 00:00:00+00:00   \n",
       "\n",
       "                   end_date  \\\n",
       "0 2010-01-28 05:00:00+00:00   \n",
       "1 2010-01-28 05:00:00+00:00   \n",
       "\n",
       "                                                 url title_primary_txt  \\\n",
       "0  https://www.christies.com/lot/lot-5287253?ldp_...    AN AGATE GEODE   \n",
       "1  https://www.christies.com/lot/lot-5287254?ldp_...  A STAGHORN CORAL   \n",
       "\n",
       "  consigner_information                                    description_txt  \\\n",
       "0               unknown  AN AGATE GEODE <BR>\\nAffixed to a stained maho...   \n",
       "1               unknown  A STAGHORN CORAL <BR>\\n10 in. (25.5 cm.) high,...   \n",
       "\n",
       "   estimate_low  estimate_high  price_realised  \\\n",
       "0         800.0         1200.0          1875.0   \n",
       "1         500.0          800.0          1625.0   \n",
       "\n",
       "                                           lot_title  location  \\\n",
       "0  A Cabinet of Curiosities Selections from the P...  New York   \n",
       "1  A Cabinet of Curiosities Selections from the P...  New York   \n",
       "\n",
       "         title_full                                  clean_description  \n",
       "0    AN AGATE GEODE  \\nAffixed to a stained mahogany stand, restore...  \n",
       "1  A STAGHORN CORAL  \\n10 in. (25.5 cm.) high, 15 in. (38 cm.) wide...  "
      ]
     },
     "execution_count": 157,
     "metadata": {},
     "output_type": "execute_result"
    }
   ],
   "source": [
    "# drop undesired columns\n",
    "cols_to_drop = ['Unnamed: 0', 'is_auction_over', 'is_in_progress', \n",
    "                'title_tertiary_txt', 'current_bid', 'current_bid_txt',\n",
    "                'is_saved', 'show_save', 'current_bid', 'current_bid_txt',\n",
    "                'price_realised_txt', 'lot_withdrawn', 'estimate_txt',\n",
    "                'estimate_on_request', 'is_estimate_unknown', 'price_on_request',\n",
    "                'title_secondary_txt', 'estimate_visible', 'image']\n",
    "\n",
    "data = df.copy()\n",
    "data = data.drop(cols_to_drop, axis=1)\n",
    "data.head(2)"
   ]
  },
  {
   "cell_type": "code",
   "execution_count": 158,
   "metadata": {},
   "outputs": [
    {
     "name": "stdout",
     "output_type": "stream",
     "text": [
      "<class 'pandas.core.frame.DataFrame'>\n",
      "Int64Index: 53903 entries, 0 to 54632\n",
      "Data columns (total 16 columns):\n",
      " #   Column                 Non-Null Count  Dtype              \n",
      "---  ------                 --------------  -----              \n",
      " 0   object_id              53903 non-null  int64              \n",
      " 1   lot_id_txt             53903 non-null  object             \n",
      " 2   event_type             53903 non-null  object             \n",
      " 3   start_date             53903 non-null  datetime64[ns, UTC]\n",
      " 4   end_date               53903 non-null  datetime64[ns, UTC]\n",
      " 5   url                    53903 non-null  object             \n",
      " 6   title_primary_txt      53903 non-null  object             \n",
      " 7   consigner_information  53903 non-null  object             \n",
      " 8   description_txt        53903 non-null  object             \n",
      " 9   estimate_low           53903 non-null  float64            \n",
      " 10  estimate_high          53903 non-null  float64            \n",
      " 11  price_realised         53903 non-null  float64            \n",
      " 12  lot_title              53903 non-null  object             \n",
      " 13  location               53903 non-null  object             \n",
      " 14  title_full             53903 non-null  object             \n",
      " 15  clean_description      53903 non-null  object             \n",
      "dtypes: datetime64[ns, UTC](2), float64(3), int64(1), object(10)\n",
      "memory usage: 7.0+ MB\n"
     ]
    }
   ],
   "source": [
    "data.info()"
   ]
  },
  {
   "cell_type": "markdown",
   "metadata": {},
   "source": [
    "---\n",
    "## Create different tables\n",
    "\n",
    "- url link table\n",
    "- to use for model\n",
    "- monthly and yearly"
   ]
  },
  {
   "cell_type": "code",
   "execution_count": 140,
   "metadata": {},
   "outputs": [],
   "source": [
    "# lot links table\n",
    "meta = data[['object_id', 'url']]"
   ]
  },
  {
   "cell_type": "code",
   "execution_count": 142,
   "metadata": {},
   "outputs": [],
   "source": [
    "# model data\n",
    "mod_data = data.drop(['object_id', 'lot_id_txt', 'url', 'title_primary_txt', \n",
    "                      'description_txt'], axis=1)\n"
   ]
  }
 ],
 "metadata": {
  "kernelspec": {
   "display_name": "Python 3",
   "language": "python",
   "name": "python3"
  },
  "language_info": {
   "codemirror_mode": {
    "name": "ipython",
    "version": 3
   },
   "file_extension": ".py",
   "mimetype": "text/x-python",
   "name": "python",
   "nbconvert_exporter": "python",
   "pygments_lexer": "ipython3",
   "version": "3.7.6"
  }
 },
 "nbformat": 4,
 "nbformat_minor": 4
}
