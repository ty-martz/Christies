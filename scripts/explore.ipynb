{
 "cells": [
  {
   "cell_type": "code",
   "execution_count": 1,
   "metadata": {},
   "outputs": [],
   "source": [
    "import pandas as pd"
   ]
  },
  {
   "cell_type": "code",
   "execution_count": 34,
   "metadata": {},
   "outputs": [
    {
     "data": {
      "text/plain": [
       "Index(['Unnamed: 0', 'object_id', 'lot_id_txt', 'event_type', 'start_date',\n",
       "       'end_date', 'url', 'is_auction_over', 'is_in_progress',\n",
       "       'title_primary_txt', 'title_secondary_txt', 'title_tertiary_txt',\n",
       "       'consigner_information', 'description_txt', 'image', 'estimate_visible',\n",
       "       'estimate_on_request', 'is_estimate_unknown', 'price_on_request',\n",
       "       'estimate_low', 'estimate_high', 'estimate_txt', 'lot_withdrawn',\n",
       "       'price_realised', 'price_realised_txt', 'current_bid',\n",
       "       'current_bid_txt', 'is_saved', 'show_save', 'lot_title', 'location'],\n",
       "      dtype='object')"
      ]
     },
     "execution_count": 34,
     "metadata": {},
     "output_type": "execute_result"
    }
   ],
   "source": [
    "raw = pd.read_csv('../data/christies_data.csv')\n",
    "raw.columns"
   ]
  },
  {
   "cell_type": "code",
   "execution_count": 38,
   "metadata": {},
   "outputs": [
    {
     "ename": "ValueError",
     "evalue": "dictionary update sequence element #0 has length 1; 2 is required",
     "output_type": "error",
     "traceback": [
      "\u001b[0;31m---------------------------------------------------------------------------\u001b[0m",
      "\u001b[0;31mValueError\u001b[0m                                Traceback (most recent call last)",
      "\u001b[0;32m/var/folders/zl/dcf4_q9d3snfp2mjbl4tx00w0000gp/T/ipykernel_2163/2923700116.py\u001b[0m in \u001b[0;36m<module>\u001b[0;34m\u001b[0m\n\u001b[0;32m----> 1\u001b[0;31m \u001b[0mprint\u001b[0m\u001b[0;34m(\u001b[0m\u001b[0mdict\u001b[0m\u001b[0;34m(\u001b[0m\u001b[0mraw\u001b[0m\u001b[0;34m.\u001b[0m\u001b[0mimage\u001b[0m\u001b[0;34m[\u001b[0m\u001b[0;36m0\u001b[0m\u001b[0;34m]\u001b[0m\u001b[0;34m)\u001b[0m\u001b[0;34m)\u001b[0m\u001b[0;34m\u001b[0m\u001b[0;34m\u001b[0m\u001b[0m\n\u001b[0m",
      "\u001b[0;31mValueError\u001b[0m: dictionary update sequence element #0 has length 1; 2 is required"
     ]
    }
   ],
   "source": [
    "print(dict(raw.image[0]))"
   ]
  },
  {
   "cell_type": "code",
   "execution_count": 21,
   "metadata": {},
   "outputs": [
    {
     "name": "stdout",
     "output_type": "stream",
     "text": [
      "<class 'pandas.core.frame.DataFrame'>\n",
      "Int64Index: 53903 entries, 0 to 54632\n",
      "Data columns (total 11 columns):\n",
      " #   Column                 Non-Null Count  Dtype              \n",
      "---  ------                 --------------  -----              \n",
      " 0   event_type             53903 non-null  object             \n",
      " 1   start_date             53903 non-null  datetime64[ns, UTC]\n",
      " 2   end_date               53903 non-null  datetime64[ns, UTC]\n",
      " 3   consigner_information  53903 non-null  object             \n",
      " 4   estimate_low           53903 non-null  float64            \n",
      " 5   estimate_high          53903 non-null  float64            \n",
      " 6   price_realised         53903 non-null  float64            \n",
      " 7   lot_title              53903 non-null  object             \n",
      " 8   location               53903 non-null  object             \n",
      " 9   title_full             53903 non-null  object             \n",
      " 10  clean_description      53903 non-null  object             \n",
      "dtypes: datetime64[ns, UTC](2), float64(3), object(6)\n",
      "memory usage: 4.9+ MB\n",
      "None\n"
     ]
    }
   ],
   "source": [
    "data = pd.read_pickle('../data/model_data.pkl')\n",
    "data = data.drop('consigner_information', axis=1)\n",
    "print(data.info())"
   ]
  },
  {
   "cell_type": "code",
   "execution_count": 22,
   "metadata": {},
   "outputs": [
    {
     "name": "stdout",
     "output_type": "stream",
     "text": [
      "  event_type                start_date                  end_date  \\\n",
      "0       Sale 2010-01-28 00:00:00+00:00 2010-01-28 05:00:00+00:00   \n",
      "1       Sale 2010-01-28 00:00:00+00:00 2010-01-28 05:00:00+00:00   \n",
      "2       Sale 2010-01-28 00:00:00+00:00 2010-01-28 05:00:00+00:00   \n",
      "3       Sale 2010-01-28 00:00:00+00:00 2010-01-28 05:00:00+00:00   \n",
      "4       Sale 2010-01-28 00:00:00+00:00 2010-01-28 05:00:00+00:00   \n",
      "\n",
      "  consigner_information  estimate_low  estimate_high  price_realised  \\\n",
      "0               unknown         800.0         1200.0          1875.0   \n",
      "1               unknown         500.0          800.0          1625.0   \n",
      "2               unknown         500.0          800.0          1500.0   \n",
      "3               unknown         700.0          900.0          2500.0   \n",
      "4               unknown        2000.0         3000.0          6000.0   \n",
      "\n",
      "                                           lot_title  location  \\\n",
      "0  A Cabinet of Curiosities Selections from the P...  New York   \n",
      "1  A Cabinet of Curiosities Selections from the P...  New York   \n",
      "2  A Cabinet of Curiosities Selections from the P...  New York   \n",
      "3  A Cabinet of Curiosities Selections from the P...  New York   \n",
      "4  A Cabinet of Curiosities Selections from the P...  New York   \n",
      "\n",
      "                                  title_full  \\\n",
      "0                             AN AGATE GEODE   \n",
      "1                           A STAGHORN CORAL   \n",
      "2     AN AGATE GEODE WITH CALCITE INCLUSIONS   \n",
      "3                  A PETRIFIED WOOD SPECIMEN   \n",
      "4  AN AMETHYST GEODE WITH CALCITE INCLUSIONS   \n",
      "\n",
      "                                   clean_description  \n",
      "0  \\nAffixed to a stained mahogany stand, restore...  \n",
      "1  \\n10 in. (25.5 cm.) high, 15 in. (38 cm.) wide...  \n",
      "2   \\n10 in. (25.5 cm.) high, 12¼ in. (31 cm.) wide   \n",
      "3  \\n4½ in. (11.5 cm.) high, 11¾ in. (30 cm.) wid...  \n",
      "4      \\n30 in. (76 cm.) high, 22 in. (56 cm.) wide   \n"
     ]
    }
   ],
   "source": [
    "print(data.head())"
   ]
  },
  {
   "cell_type": "code",
   "execution_count": 26,
   "metadata": {},
   "outputs": [
    {
     "name": "stdout",
     "output_type": "stream",
     "text": [
      "13\n"
     ]
    }
   ],
   "source": [
    "print(len(data.location.unique()))"
   ]
  },
  {
   "cell_type": "code",
   "execution_count": 28,
   "metadata": {},
   "outputs": [
    {
     "name": "stdout",
     "output_type": "stream",
     "text": [
      "['A Cabinet of Curiosities Selections from the Peter Tillou Collections'\n",
      " 'Old Master & 19th Century Paintings, Drawings, & Watercolors'\n",
      " 'The Collection of Benjamin F. Edwards III'\n",
      " '500 Years: Decorative Arts Europe' 'The Ski Sale']\n"
     ]
    }
   ],
   "source": [
    "print(data.lot_title.unique()[:5])"
   ]
  },
  {
   "cell_type": "code",
   "execution_count": 33,
   "metadata": {},
   "outputs": [
    {
     "name": "stdout",
     "output_type": "stream",
     "text": [
      "998\n"
     ]
    }
   ],
   "source": [
    "print(len(data.lot_title.unique()))"
   ]
  },
  {
   "cell_type": "code",
   "execution_count": 31,
   "metadata": {},
   "outputs": [
    {
     "name": "stdout",
     "output_type": "stream",
     "text": [
      "[\"\\nApokalypse: Morgen \\nsigned, dated and inscribed 'F.Schwimbeck 23.VIII.23 Apokalypse: Morgen. II Fassung' (on the reverse)\\npen and India ink and pencil on paper \\n6½ x 4 5/8 in. (16.4 x 11.8 cm.) \\nExecuted on 23 August 1923 \"\n",
      " \"\\nFieberphantasien \\nsigned 'F.Schwimbeck' (lower right); dated '9.Dez.18' (on the reverse) \\npen and India ink on paper \\n7¾ x 5½ in. (19.8 x 14.1 cm.) \\nExecuted on 9 December 1918 \"\n",
      " \"\\nGeh nicht mit Deinem Herzen allein in die Wüste! \\nsigned 'F.Schwimbeck.' (lower right); dated twice and inscribed '26.6.1915 26. Juni 1915 Geh nicht mit Deinem Herzen allein in die Wüste! I. Fassung ungültig!' (on the reverse)\\npen and India ink and wash on paper \\n12¼ x 9½ in. (31 x 24.3 cm.) \\nExecuted on 26 June 1915 \"\n",
      " \"\\nMein Traum, mein böser Traum \\nsigned, dated and inscribed 'F.Schwimbeck 2.VIII.1909. Mein Traum, mein böser Traum.' (on the artist's mount)\\npen and ink, wash and gouache on paper laid down on the artist's mount \\nImage: 7 3/8 x 10 5/8 in. (18.7 x 26.9).\\nMount: 12 x 15½ in. (30.3 x 39.6 cm.)\\nExecuted on 2 August 1909 \"\n",
      " \"\\nLiebespaar, or Junges Paar (<I>recto</I>); Stehender Akt (<I>verso</I>) \\nwith the <I>Nachlass</I> stamp numbered 'ADre/Bg21' (on the reverse) \\ngouache, watercolour and pencil (<I>recto</I>) and brush and ink (<I>verso</I>) on paper\\n13½ x 17 3/8 in. (34.3 x 44.1 cm.) \\nExecuted in 1910 \"\n",
      " \"\\nGrossvater mit Enkel \\nsigned with the initials and dated '1921' (upper left) \\nwatercolour and pencil on paper \\n23¼ x 19¼ in. (58.9 x 49 cm.) \\nExecuted in 1921 \"\n",
      " \"\\nHirte mit Kuh \\nwith the <I>Nachlass</I> stamp numbered 'PDa/BL5' (on the reverse) \\nblack crayon and wash on paper \\n16 5/8 x 20 in. (42.2 x 50.8 cm.) \\nExecuted in 1928 \"\n",
      " \"\\nStrasse (Berliner Vorort) \\nwith the <I>Nachlass</I> stamp numbered 'ABe/Aa50' (on the reverse) \\nwatercolour and pencil on paper \\n13 7/8 x 10 7/8 in. (35.4 x 27.5 cm.) \\nExecuted in 1912 \"\n",
      " \"\\nMann und Frau (mit einem roten Blumenstrauss) \\nsigned 'Nolde.' (upper left) \\nwatercolour and gouache on Japan paper \\n8 x 7½ in. (20 x 18.9 cm.) \\nExecuted between 1938-1945 \"\n",
      " \"\\nMeer \\nsigned 'Nolde' (lower right) \\nwatercolour on Japan paper \\n12½ x 18¾ in. (32 x 47.7 cm.) \\nExecuted <I>circa</I> 1930-1940 \"]\n"
     ]
    }
   ],
   "source": [
    "print(data.clean_description.unique()[500:510])"
   ]
  },
  {
   "cell_type": "code",
   "execution_count": null,
   "metadata": {},
   "outputs": [],
   "source": []
  }
 ],
 "metadata": {
  "kernelspec": {
   "display_name": "env",
   "language": "python",
   "name": "python3"
  },
  "language_info": {
   "codemirror_mode": {
    "name": "ipython",
    "version": 3
   },
   "file_extension": ".py",
   "mimetype": "text/x-python",
   "name": "python",
   "nbconvert_exporter": "python",
   "pygments_lexer": "ipython3",
   "version": "3.8.2"
  },
  "orig_nbformat": 4,
  "vscode": {
   "interpreter": {
    "hash": "975cf7c5050c4b8526436f9e6d91329ee3fd45e5ccc916592ac0be41c748d70c"
   }
  }
 },
 "nbformat": 4,
 "nbformat_minor": 2
}
